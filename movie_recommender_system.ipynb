{
 "cells": [
  {
   "cell_type": "code",
   "execution_count": 1,
   "id": "13922c5a-edce-4e0b-a0c9-c372269676e9",
   "metadata": {},
   "outputs": [],
   "source": [
    "import pandas as pd\n",
    "import numpy as np"
   ]
  },
  {
   "cell_type": "code",
   "execution_count": 2,
   "id": "ca4f7403-fa6e-4d03-b400-a45b8715d831",
   "metadata": {},
   "outputs": [],
   "source": [
    "movies = pd.read_csv('tmdb_5000_movies.csv')\n",
    "credits = pd.read_csv('tmdb_5000_credits.csv')"
   ]
  },
  {
   "cell_type": "code",
   "execution_count": 3,
   "id": "6fda984a-288f-4e5b-ac28-512216e22416",
   "metadata": {},
   "outputs": [
    {
     "data": {
      "text/plain": [
       "array(['[{\"id\": 1463, \"name\": \"culture clash\"}, {\"id\": 2964, \"name\": \"future\"}, {\"id\": 3386, \"name\": \"space war\"}, {\"id\": 3388, \"name\": \"space colony\"}, {\"id\": 3679, \"name\": \"society\"}, {\"id\": 3801, \"name\": \"space travel\"}, {\"id\": 9685, \"name\": \"futuristic\"}, {\"id\": 9840, \"name\": \"romance\"}, {\"id\": 9882, \"name\": \"space\"}, {\"id\": 9951, \"name\": \"alien\"}, {\"id\": 10148, \"name\": \"tribe\"}, {\"id\": 10158, \"name\": \"alien planet\"}, {\"id\": 10987, \"name\": \"cgi\"}, {\"id\": 11399, \"name\": \"marine\"}, {\"id\": 13065, \"name\": \"soldier\"}, {\"id\": 14643, \"name\": \"battle\"}, {\"id\": 14720, \"name\": \"love affair\"}, {\"id\": 165431, \"name\": \"anti war\"}, {\"id\": 193554, \"name\": \"power relations\"}, {\"id\": 206690, \"name\": \"mind and soul\"}, {\"id\": 209714, \"name\": \"3d\"}]'],\n",
       "      dtype=object)"
      ]
     },
     "execution_count": 3,
     "metadata": {},
     "output_type": "execute_result"
    }
   ],
   "source": [
    "movies.head(1)['keywords'].values"
   ]
  },
  {
   "cell_type": "code",
   "execution_count": 4,
   "id": "864591d8-a6c6-4415-9c19-79ac96bb40e3",
   "metadata": {},
   "outputs": [
    {
     "data": {
      "text/html": [
       "<div>\n",
       "<style scoped>\n",
       "    .dataframe tbody tr th:only-of-type {\n",
       "        vertical-align: middle;\n",
       "    }\n",
       "\n",
       "    .dataframe tbody tr th {\n",
       "        vertical-align: top;\n",
       "    }\n",
       "\n",
       "    .dataframe thead th {\n",
       "        text-align: right;\n",
       "    }\n",
       "</style>\n",
       "<table border=\"1\" class=\"dataframe\">\n",
       "  <thead>\n",
       "    <tr style=\"text-align: right;\">\n",
       "      <th></th>\n",
       "      <th>budget</th>\n",
       "      <th>genres</th>\n",
       "      <th>homepage</th>\n",
       "      <th>id</th>\n",
       "      <th>keywords</th>\n",
       "      <th>original_language</th>\n",
       "      <th>original_title</th>\n",
       "      <th>overview</th>\n",
       "      <th>popularity</th>\n",
       "      <th>production_companies</th>\n",
       "      <th>production_countries</th>\n",
       "      <th>release_date</th>\n",
       "      <th>revenue</th>\n",
       "      <th>runtime</th>\n",
       "      <th>spoken_languages</th>\n",
       "      <th>status</th>\n",
       "      <th>tagline</th>\n",
       "      <th>title</th>\n",
       "      <th>vote_average</th>\n",
       "      <th>vote_count</th>\n",
       "    </tr>\n",
       "  </thead>\n",
       "  <tbody>\n",
       "    <tr>\n",
       "      <th>0</th>\n",
       "      <td>237000000</td>\n",
       "      <td>[{\"id\": 28, \"name\": \"Action\"}, {\"id\": 12, \"nam...</td>\n",
       "      <td>http://www.avatarmovie.com/</td>\n",
       "      <td>19995</td>\n",
       "      <td>[{\"id\": 1463, \"name\": \"culture clash\"}, {\"id\":...</td>\n",
       "      <td>en</td>\n",
       "      <td>Avatar</td>\n",
       "      <td>In the 22nd century, a paraplegic Marine is di...</td>\n",
       "      <td>150.437577</td>\n",
       "      <td>[{\"name\": \"Ingenious Film Partners\", \"id\": 289...</td>\n",
       "      <td>[{\"iso_3166_1\": \"US\", \"name\": \"United States o...</td>\n",
       "      <td>2009-12-10</td>\n",
       "      <td>2787965087</td>\n",
       "      <td>162.0</td>\n",
       "      <td>[{\"iso_639_1\": \"en\", \"name\": \"English\"}, {\"iso...</td>\n",
       "      <td>Released</td>\n",
       "      <td>Enter the World of Pandora.</td>\n",
       "      <td>Avatar</td>\n",
       "      <td>7.2</td>\n",
       "      <td>11800</td>\n",
       "    </tr>\n",
       "  </tbody>\n",
       "</table>\n",
       "</div>"
      ],
      "text/plain": [
       "      budget                                             genres  \\\n",
       "0  237000000  [{\"id\": 28, \"name\": \"Action\"}, {\"id\": 12, \"nam...   \n",
       "\n",
       "                      homepage     id  \\\n",
       "0  http://www.avatarmovie.com/  19995   \n",
       "\n",
       "                                            keywords original_language  \\\n",
       "0  [{\"id\": 1463, \"name\": \"culture clash\"}, {\"id\":...                en   \n",
       "\n",
       "  original_title                                           overview  \\\n",
       "0         Avatar  In the 22nd century, a paraplegic Marine is di...   \n",
       "\n",
       "   popularity                               production_companies  \\\n",
       "0  150.437577  [{\"name\": \"Ingenious Film Partners\", \"id\": 289...   \n",
       "\n",
       "                                production_countries release_date     revenue  \\\n",
       "0  [{\"iso_3166_1\": \"US\", \"name\": \"United States o...   2009-12-10  2787965087   \n",
       "\n",
       "   runtime                                   spoken_languages    status  \\\n",
       "0    162.0  [{\"iso_639_1\": \"en\", \"name\": \"English\"}, {\"iso...  Released   \n",
       "\n",
       "                       tagline   title  vote_average  vote_count  \n",
       "0  Enter the World of Pandora.  Avatar           7.2       11800  "
      ]
     },
     "execution_count": 4,
     "metadata": {},
     "output_type": "execute_result"
    }
   ],
   "source": [
    "movies.head(1)"
   ]
  },
  {
   "cell_type": "code",
   "execution_count": 5,
   "id": "4bc7f8d1-da87-4d18-a030-9108aac87587",
   "metadata": {},
   "outputs": [
    {
     "data": {
      "text/html": [
       "<div>\n",
       "<style scoped>\n",
       "    .dataframe tbody tr th:only-of-type {\n",
       "        vertical-align: middle;\n",
       "    }\n",
       "\n",
       "    .dataframe tbody tr th {\n",
       "        vertical-align: top;\n",
       "    }\n",
       "\n",
       "    .dataframe thead th {\n",
       "        text-align: right;\n",
       "    }\n",
       "</style>\n",
       "<table border=\"1\" class=\"dataframe\">\n",
       "  <thead>\n",
       "    <tr style=\"text-align: right;\">\n",
       "      <th></th>\n",
       "      <th>movie_id</th>\n",
       "      <th>title</th>\n",
       "      <th>cast</th>\n",
       "      <th>crew</th>\n",
       "    </tr>\n",
       "  </thead>\n",
       "  <tbody>\n",
       "    <tr>\n",
       "      <th>0</th>\n",
       "      <td>19995</td>\n",
       "      <td>Avatar</td>\n",
       "      <td>[{\"cast_id\": 242, \"character\": \"Jake Sully\", \"...</td>\n",
       "      <td>[{\"credit_id\": \"52fe48009251416c750aca23\", \"de...</td>\n",
       "    </tr>\n",
       "  </tbody>\n",
       "</table>\n",
       "</div>"
      ],
      "text/plain": [
       "   movie_id   title                                               cast  \\\n",
       "0     19995  Avatar  [{\"cast_id\": 242, \"character\": \"Jake Sully\", \"...   \n",
       "\n",
       "                                                crew  \n",
       "0  [{\"credit_id\": \"52fe48009251416c750aca23\", \"de...  "
      ]
     },
     "execution_count": 5,
     "metadata": {},
     "output_type": "execute_result"
    }
   ],
   "source": [
    "credits.head(1)"
   ]
  },
  {
   "cell_type": "code",
   "execution_count": 6,
   "id": "84a9f240-5510-4e4e-8858-d35fd6c9120e",
   "metadata": {},
   "outputs": [],
   "source": [
    "movies = movies.merge(credits, on = 'title')"
   ]
  },
  {
   "cell_type": "code",
   "execution_count": 7,
   "id": "935c4a4d-61af-4553-bb1f-d07fe734bc45",
   "metadata": {},
   "outputs": [
    {
     "data": {
      "text/plain": [
       "(4809, 23)"
      ]
     },
     "execution_count": 7,
     "metadata": {},
     "output_type": "execute_result"
    }
   ],
   "source": [
    "movies.shape"
   ]
  },
  {
   "cell_type": "code",
   "execution_count": 8,
   "id": "a4444754-f847-4ae7-8fdf-443f3bca3d0f",
   "metadata": {},
   "outputs": [
    {
     "name": "stdout",
     "output_type": "stream",
     "text": [
      "<class 'pandas.core.frame.DataFrame'>\n",
      "RangeIndex: 4809 entries, 0 to 4808\n",
      "Data columns (total 23 columns):\n",
      " #   Column                Non-Null Count  Dtype  \n",
      "---  ------                --------------  -----  \n",
      " 0   budget                4809 non-null   int64  \n",
      " 1   genres                4809 non-null   object \n",
      " 2   homepage              1713 non-null   object \n",
      " 3   id                    4809 non-null   int64  \n",
      " 4   keywords              4809 non-null   object \n",
      " 5   original_language     4809 non-null   object \n",
      " 6   original_title        4809 non-null   object \n",
      " 7   overview              4806 non-null   object \n",
      " 8   popularity            4809 non-null   float64\n",
      " 9   production_companies  4809 non-null   object \n",
      " 10  production_countries  4809 non-null   object \n",
      " 11  release_date          4808 non-null   object \n",
      " 12  revenue               4809 non-null   int64  \n",
      " 13  runtime               4807 non-null   float64\n",
      " 14  spoken_languages      4809 non-null   object \n",
      " 15  status                4809 non-null   object \n",
      " 16  tagline               3965 non-null   object \n",
      " 17  title                 4809 non-null   object \n",
      " 18  vote_average          4809 non-null   float64\n",
      " 19  vote_count            4809 non-null   int64  \n",
      " 20  movie_id              4809 non-null   int64  \n",
      " 21  cast                  4809 non-null   object \n",
      " 22  crew                  4809 non-null   object \n",
      "dtypes: float64(3), int64(5), object(15)\n",
      "memory usage: 864.2+ KB\n"
     ]
    }
   ],
   "source": [
    "movies.info()"
   ]
  },
  {
   "cell_type": "code",
   "execution_count": 9,
   "id": "8f6f4583-6e1f-4491-8a83-61e5f09ec273",
   "metadata": {},
   "outputs": [],
   "source": [
    "movies = movies[['movie_id','genres','title','keywords','overview','cast','crew']]"
   ]
  },
  {
   "cell_type": "code",
   "execution_count": 10,
   "id": "e5e59bca-90bc-4169-9502-aa4a92120804",
   "metadata": {},
   "outputs": [
    {
     "name": "stdout",
     "output_type": "stream",
     "text": [
      "<class 'pandas.core.frame.DataFrame'>\n",
      "RangeIndex: 4809 entries, 0 to 4808\n",
      "Data columns (total 7 columns):\n",
      " #   Column    Non-Null Count  Dtype \n",
      "---  ------    --------------  ----- \n",
      " 0   movie_id  4809 non-null   int64 \n",
      " 1   genres    4809 non-null   object\n",
      " 2   title     4809 non-null   object\n",
      " 3   keywords  4809 non-null   object\n",
      " 4   overview  4806 non-null   object\n",
      " 5   cast      4809 non-null   object\n",
      " 6   crew      4809 non-null   object\n",
      "dtypes: int64(1), object(6)\n",
      "memory usage: 263.1+ KB\n"
     ]
    }
   ],
   "source": [
    "movies.info()"
   ]
  },
  {
   "cell_type": "code",
   "execution_count": 11,
   "id": "927036c8-8c7e-4eff-8729-c50f3cc4eecc",
   "metadata": {},
   "outputs": [
    {
     "data": {
      "text/plain": [
       "movie_id    0\n",
       "genres      0\n",
       "title       0\n",
       "keywords    0\n",
       "overview    3\n",
       "cast        0\n",
       "crew        0\n",
       "dtype: int64"
      ]
     },
     "execution_count": 11,
     "metadata": {},
     "output_type": "execute_result"
    }
   ],
   "source": [
    "movies.isnull().sum()"
   ]
  },
  {
   "cell_type": "code",
   "execution_count": 12,
   "id": "eaf74268-8b78-4769-8d35-62f5a976a2cc",
   "metadata": {},
   "outputs": [],
   "source": [
    "movies.dropna(inplace = True)"
   ]
  },
  {
   "cell_type": "code",
   "execution_count": 13,
   "id": "236614b0-b1b8-41b3-8a74-b3e3a621985a",
   "metadata": {},
   "outputs": [
    {
     "data": {
      "text/plain": [
       "0"
      ]
     },
     "execution_count": 13,
     "metadata": {},
     "output_type": "execute_result"
    }
   ],
   "source": [
    "movies.duplicated().sum()"
   ]
  },
  {
   "cell_type": "code",
   "execution_count": 14,
   "id": "7a4af68a-297c-4e95-bd49-541ff55053d1",
   "metadata": {},
   "outputs": [
    {
     "data": {
      "text/html": [
       "<div>\n",
       "<style scoped>\n",
       "    .dataframe tbody tr th:only-of-type {\n",
       "        vertical-align: middle;\n",
       "    }\n",
       "\n",
       "    .dataframe tbody tr th {\n",
       "        vertical-align: top;\n",
       "    }\n",
       "\n",
       "    .dataframe thead th {\n",
       "        text-align: right;\n",
       "    }\n",
       "</style>\n",
       "<table border=\"1\" class=\"dataframe\">\n",
       "  <thead>\n",
       "    <tr style=\"text-align: right;\">\n",
       "      <th></th>\n",
       "      <th>movie_id</th>\n",
       "      <th>genres</th>\n",
       "      <th>title</th>\n",
       "      <th>keywords</th>\n",
       "      <th>overview</th>\n",
       "      <th>cast</th>\n",
       "      <th>crew</th>\n",
       "    </tr>\n",
       "  </thead>\n",
       "  <tbody>\n",
       "    <tr>\n",
       "      <th>0</th>\n",
       "      <td>19995</td>\n",
       "      <td>[{\"id\": 28, \"name\": \"Action\"}, {\"id\": 12, \"nam...</td>\n",
       "      <td>Avatar</td>\n",
       "      <td>[{\"id\": 1463, \"name\": \"culture clash\"}, {\"id\":...</td>\n",
       "      <td>In the 22nd century, a paraplegic Marine is di...</td>\n",
       "      <td>[{\"cast_id\": 242, \"character\": \"Jake Sully\", \"...</td>\n",
       "      <td>[{\"credit_id\": \"52fe48009251416c750aca23\", \"de...</td>\n",
       "    </tr>\n",
       "  </tbody>\n",
       "</table>\n",
       "</div>"
      ],
      "text/plain": [
       "   movie_id                                             genres   title  \\\n",
       "0     19995  [{\"id\": 28, \"name\": \"Action\"}, {\"id\": 12, \"nam...  Avatar   \n",
       "\n",
       "                                            keywords  \\\n",
       "0  [{\"id\": 1463, \"name\": \"culture clash\"}, {\"id\":...   \n",
       "\n",
       "                                            overview  \\\n",
       "0  In the 22nd century, a paraplegic Marine is di...   \n",
       "\n",
       "                                                cast  \\\n",
       "0  [{\"cast_id\": 242, \"character\": \"Jake Sully\", \"...   \n",
       "\n",
       "                                                crew  \n",
       "0  [{\"credit_id\": \"52fe48009251416c750aca23\", \"de...  "
      ]
     },
     "execution_count": 14,
     "metadata": {},
     "output_type": "execute_result"
    }
   ],
   "source": [
    "movies.head(1)"
   ]
  },
  {
   "cell_type": "code",
   "execution_count": 15,
   "id": "1dacc4e9-0578-466c-9d09-5c2d4785a769",
   "metadata": {},
   "outputs": [],
   "source": [
    "import ast"
   ]
  },
  {
   "cell_type": "code",
   "execution_count": 16,
   "id": "8a54f99f-b3a2-4a85-9a03-1bf145c335b3",
   "metadata": {},
   "outputs": [],
   "source": [
    "def convert(obj):\n",
    "    L = []\n",
    "    for i in ast.literal_eval(obj):\n",
    "        L.append(i['name'])\n",
    "    return L"
   ]
  },
  {
   "cell_type": "code",
   "execution_count": 17,
   "id": "31c69949-2915-45a6-a4eb-18c20365e9bc",
   "metadata": {},
   "outputs": [],
   "source": [
    "movies['genres'] = movies['genres'].apply(convert)"
   ]
  },
  {
   "cell_type": "code",
   "execution_count": 18,
   "id": "105cfd10-f9fe-43a6-937a-f63f3b5902c1",
   "metadata": {},
   "outputs": [],
   "source": [
    "movies['keywords'] = movies['keywords'].apply(convert)"
   ]
  },
  {
   "cell_type": "code",
   "execution_count": 19,
   "id": "7f1dac23-2173-4c7f-be5c-c7f0b239fd1c",
   "metadata": {},
   "outputs": [],
   "source": [
    "movies['overview'] = movies['overview'].apply(lambda x: x.split())"
   ]
  },
  {
   "cell_type": "code",
   "execution_count": 20,
   "id": "622feda8-5d75-483f-bb1b-b70cc2a1dbbc",
   "metadata": {},
   "outputs": [
    {
     "data": {
      "text/plain": [
       "0       [In, the, 22nd, century,, a, paraplegic, Marin...\n",
       "1       [Captain, Barbossa,, long, believed, to, be, d...\n",
       "2       [A, cryptic, message, from, Bond’s, past, send...\n",
       "3       [Following, the, death, of, District, Attorney...\n",
       "4       [John, Carter, is, a, war-weary,, former, mili...\n",
       "                              ...                        \n",
       "4804    [El, Mariachi, just, wants, to, play, his, gui...\n",
       "4805    [A, newlywed, couple's, honeymoon, is, upended...\n",
       "4806    [\"Signed,, Sealed,, Delivered\", introduces, a,...\n",
       "4807    [When, ambitious, New, York, attorney, Sam, is...\n",
       "4808    [Ever, since, the, second, grade, when, he, fi...\n",
       "Name: overview, Length: 4806, dtype: object"
      ]
     },
     "execution_count": 20,
     "metadata": {},
     "output_type": "execute_result"
    }
   ],
   "source": [
    "movies['overview']"
   ]
  },
  {
   "cell_type": "code",
   "execution_count": 21,
   "id": "eeb992bd-e5d2-4ddd-8177-59b3eb59155e",
   "metadata": {},
   "outputs": [],
   "source": [
    "def convert3(obj):\n",
    "    L = []\n",
    "    count = 0\n",
    "    for i in ast.literal_eval(obj):\n",
    "        if count < 3:\n",
    "            L.append(i['name'])\n",
    "            count += 1\n",
    "        else:\n",
    "            break\n",
    "    return L"
   ]
  },
  {
   "cell_type": "code",
   "execution_count": 22,
   "id": "c21f5274-462f-4159-a776-d034d278fdcf",
   "metadata": {},
   "outputs": [],
   "source": [
    "movies['cast'] = movies['cast'].apply(convert3)"
   ]
  },
  {
   "cell_type": "code",
   "execution_count": 23,
   "id": "5b792902-7c5b-450d-a302-c3fe6d6a4249",
   "metadata": {},
   "outputs": [
    {
     "data": {
      "text/html": [
       "<div>\n",
       "<style scoped>\n",
       "    .dataframe tbody tr th:only-of-type {\n",
       "        vertical-align: middle;\n",
       "    }\n",
       "\n",
       "    .dataframe tbody tr th {\n",
       "        vertical-align: top;\n",
       "    }\n",
       "\n",
       "    .dataframe thead th {\n",
       "        text-align: right;\n",
       "    }\n",
       "</style>\n",
       "<table border=\"1\" class=\"dataframe\">\n",
       "  <thead>\n",
       "    <tr style=\"text-align: right;\">\n",
       "      <th></th>\n",
       "      <th>movie_id</th>\n",
       "      <th>genres</th>\n",
       "      <th>title</th>\n",
       "      <th>keywords</th>\n",
       "      <th>overview</th>\n",
       "      <th>cast</th>\n",
       "      <th>crew</th>\n",
       "    </tr>\n",
       "  </thead>\n",
       "  <tbody>\n",
       "    <tr>\n",
       "      <th>0</th>\n",
       "      <td>19995</td>\n",
       "      <td>[Action, Adventure, Fantasy, Science Fiction]</td>\n",
       "      <td>Avatar</td>\n",
       "      <td>[culture clash, future, space war, space colon...</td>\n",
       "      <td>[In, the, 22nd, century,, a, paraplegic, Marin...</td>\n",
       "      <td>[Sam Worthington, Zoe Saldana, Sigourney Weaver]</td>\n",
       "      <td>[{\"credit_id\": \"52fe48009251416c750aca23\", \"de...</td>\n",
       "    </tr>\n",
       "    <tr>\n",
       "      <th>1</th>\n",
       "      <td>285</td>\n",
       "      <td>[Adventure, Fantasy, Action]</td>\n",
       "      <td>Pirates of the Caribbean: At World's End</td>\n",
       "      <td>[ocean, drug abuse, exotic island, east india ...</td>\n",
       "      <td>[Captain, Barbossa,, long, believed, to, be, d...</td>\n",
       "      <td>[Johnny Depp, Orlando Bloom, Keira Knightley]</td>\n",
       "      <td>[{\"credit_id\": \"52fe4232c3a36847f800b579\", \"de...</td>\n",
       "    </tr>\n",
       "    <tr>\n",
       "      <th>2</th>\n",
       "      <td>206647</td>\n",
       "      <td>[Action, Adventure, Crime]</td>\n",
       "      <td>Spectre</td>\n",
       "      <td>[spy, based on novel, secret agent, sequel, mi...</td>\n",
       "      <td>[A, cryptic, message, from, Bond’s, past, send...</td>\n",
       "      <td>[Daniel Craig, Christoph Waltz, Léa Seydoux]</td>\n",
       "      <td>[{\"credit_id\": \"54805967c3a36829b5002c41\", \"de...</td>\n",
       "    </tr>\n",
       "    <tr>\n",
       "      <th>3</th>\n",
       "      <td>49026</td>\n",
       "      <td>[Action, Crime, Drama, Thriller]</td>\n",
       "      <td>The Dark Knight Rises</td>\n",
       "      <td>[dc comics, crime fighter, terrorist, secret i...</td>\n",
       "      <td>[Following, the, death, of, District, Attorney...</td>\n",
       "      <td>[Christian Bale, Michael Caine, Gary Oldman]</td>\n",
       "      <td>[{\"credit_id\": \"52fe4781c3a36847f81398c3\", \"de...</td>\n",
       "    </tr>\n",
       "    <tr>\n",
       "      <th>4</th>\n",
       "      <td>49529</td>\n",
       "      <td>[Action, Adventure, Science Fiction]</td>\n",
       "      <td>John Carter</td>\n",
       "      <td>[based on novel, mars, medallion, space travel...</td>\n",
       "      <td>[John, Carter, is, a, war-weary,, former, mili...</td>\n",
       "      <td>[Taylor Kitsch, Lynn Collins, Samantha Morton]</td>\n",
       "      <td>[{\"credit_id\": \"52fe479ac3a36847f813eaa3\", \"de...</td>\n",
       "    </tr>\n",
       "  </tbody>\n",
       "</table>\n",
       "</div>"
      ],
      "text/plain": [
       "   movie_id                                         genres  \\\n",
       "0     19995  [Action, Adventure, Fantasy, Science Fiction]   \n",
       "1       285                   [Adventure, Fantasy, Action]   \n",
       "2    206647                     [Action, Adventure, Crime]   \n",
       "3     49026               [Action, Crime, Drama, Thriller]   \n",
       "4     49529           [Action, Adventure, Science Fiction]   \n",
       "\n",
       "                                      title  \\\n",
       "0                                    Avatar   \n",
       "1  Pirates of the Caribbean: At World's End   \n",
       "2                                   Spectre   \n",
       "3                     The Dark Knight Rises   \n",
       "4                               John Carter   \n",
       "\n",
       "                                            keywords  \\\n",
       "0  [culture clash, future, space war, space colon...   \n",
       "1  [ocean, drug abuse, exotic island, east india ...   \n",
       "2  [spy, based on novel, secret agent, sequel, mi...   \n",
       "3  [dc comics, crime fighter, terrorist, secret i...   \n",
       "4  [based on novel, mars, medallion, space travel...   \n",
       "\n",
       "                                            overview  \\\n",
       "0  [In, the, 22nd, century,, a, paraplegic, Marin...   \n",
       "1  [Captain, Barbossa,, long, believed, to, be, d...   \n",
       "2  [A, cryptic, message, from, Bond’s, past, send...   \n",
       "3  [Following, the, death, of, District, Attorney...   \n",
       "4  [John, Carter, is, a, war-weary,, former, mili...   \n",
       "\n",
       "                                               cast  \\\n",
       "0  [Sam Worthington, Zoe Saldana, Sigourney Weaver]   \n",
       "1     [Johnny Depp, Orlando Bloom, Keira Knightley]   \n",
       "2      [Daniel Craig, Christoph Waltz, Léa Seydoux]   \n",
       "3      [Christian Bale, Michael Caine, Gary Oldman]   \n",
       "4    [Taylor Kitsch, Lynn Collins, Samantha Morton]   \n",
       "\n",
       "                                                crew  \n",
       "0  [{\"credit_id\": \"52fe48009251416c750aca23\", \"de...  \n",
       "1  [{\"credit_id\": \"52fe4232c3a36847f800b579\", \"de...  \n",
       "2  [{\"credit_id\": \"54805967c3a36829b5002c41\", \"de...  \n",
       "3  [{\"credit_id\": \"52fe4781c3a36847f81398c3\", \"de...  \n",
       "4  [{\"credit_id\": \"52fe479ac3a36847f813eaa3\", \"de...  "
      ]
     },
     "execution_count": 23,
     "metadata": {},
     "output_type": "execute_result"
    }
   ],
   "source": [
    "movies.head()"
   ]
  },
  {
   "cell_type": "code",
   "execution_count": 24,
   "id": "b4a29bcb-237e-4d40-b499-3a3c8df8fe1c",
   "metadata": {},
   "outputs": [],
   "source": [
    "def director(obj):\n",
    "    L = []\n",
    "    for i in ast.literal_eval(obj):\n",
    "        if i['job']=='Director':\n",
    "            L.append(i['name'])\n",
    "            break\n",
    "    return L"
   ]
  },
  {
   "cell_type": "code",
   "execution_count": 25,
   "id": "8f330326-ff2e-4848-b5ac-a99c16557dd1",
   "metadata": {},
   "outputs": [],
   "source": [
    "movies['crew'] = movies['crew'].apply(director)"
   ]
  },
  {
   "cell_type": "code",
   "execution_count": 26,
   "id": "404dee67-84be-4758-8c11-f7c8099e983d",
   "metadata": {},
   "outputs": [
    {
     "data": {
      "text/html": [
       "<div>\n",
       "<style scoped>\n",
       "    .dataframe tbody tr th:only-of-type {\n",
       "        vertical-align: middle;\n",
       "    }\n",
       "\n",
       "    .dataframe tbody tr th {\n",
       "        vertical-align: top;\n",
       "    }\n",
       "\n",
       "    .dataframe thead th {\n",
       "        text-align: right;\n",
       "    }\n",
       "</style>\n",
       "<table border=\"1\" class=\"dataframe\">\n",
       "  <thead>\n",
       "    <tr style=\"text-align: right;\">\n",
       "      <th></th>\n",
       "      <th>movie_id</th>\n",
       "      <th>genres</th>\n",
       "      <th>title</th>\n",
       "      <th>keywords</th>\n",
       "      <th>overview</th>\n",
       "      <th>cast</th>\n",
       "      <th>crew</th>\n",
       "    </tr>\n",
       "  </thead>\n",
       "  <tbody>\n",
       "    <tr>\n",
       "      <th>0</th>\n",
       "      <td>19995</td>\n",
       "      <td>[Action, Adventure, Fantasy, Science Fiction]</td>\n",
       "      <td>Avatar</td>\n",
       "      <td>[culture clash, future, space war, space colon...</td>\n",
       "      <td>[In, the, 22nd, century,, a, paraplegic, Marin...</td>\n",
       "      <td>[Sam Worthington, Zoe Saldana, Sigourney Weaver]</td>\n",
       "      <td>[James Cameron]</td>\n",
       "    </tr>\n",
       "  </tbody>\n",
       "</table>\n",
       "</div>"
      ],
      "text/plain": [
       "   movie_id                                         genres   title  \\\n",
       "0     19995  [Action, Adventure, Fantasy, Science Fiction]  Avatar   \n",
       "\n",
       "                                            keywords  \\\n",
       "0  [culture clash, future, space war, space colon...   \n",
       "\n",
       "                                            overview  \\\n",
       "0  [In, the, 22nd, century,, a, paraplegic, Marin...   \n",
       "\n",
       "                                               cast             crew  \n",
       "0  [Sam Worthington, Zoe Saldana, Sigourney Weaver]  [James Cameron]  "
      ]
     },
     "execution_count": 26,
     "metadata": {},
     "output_type": "execute_result"
    }
   ],
   "source": [
    "movies.head(1)"
   ]
  },
  {
   "cell_type": "code",
   "execution_count": 27,
   "id": "01372b73-282d-450e-8939-fc2a2522d9db",
   "metadata": {},
   "outputs": [],
   "source": [
    "movies['genres'] = movies['genres'].apply(lambda x :[ i.replace(\" \",\"\") for i in x])\n",
    "movies['keywords'] = movies['keywords'].apply(lambda x :[ i.replace(\" \",\"\") for i in x])\n",
    "movies['overview'] = movies['overview'].apply(lambda x :[ i.replace(\" \",\"\") for i in x])\n",
    "movies['cast'] = movies['cast'].apply(lambda x :[ i.replace(\" \",\"\") for i in x])\n",
    "movies['crew'] = movies['crew'].apply(lambda x :[ i.replace(\" \",\"\") for i in x])"
   ]
  },
  {
   "cell_type": "code",
   "execution_count": 28,
   "id": "80cb42e6-6cfe-4921-9ada-7eab23bb0c4c",
   "metadata": {},
   "outputs": [
    {
     "data": {
      "text/html": [
       "<div>\n",
       "<style scoped>\n",
       "    .dataframe tbody tr th:only-of-type {\n",
       "        vertical-align: middle;\n",
       "    }\n",
       "\n",
       "    .dataframe tbody tr th {\n",
       "        vertical-align: top;\n",
       "    }\n",
       "\n",
       "    .dataframe thead th {\n",
       "        text-align: right;\n",
       "    }\n",
       "</style>\n",
       "<table border=\"1\" class=\"dataframe\">\n",
       "  <thead>\n",
       "    <tr style=\"text-align: right;\">\n",
       "      <th></th>\n",
       "      <th>movie_id</th>\n",
       "      <th>genres</th>\n",
       "      <th>title</th>\n",
       "      <th>keywords</th>\n",
       "      <th>overview</th>\n",
       "      <th>cast</th>\n",
       "      <th>crew</th>\n",
       "    </tr>\n",
       "  </thead>\n",
       "  <tbody>\n",
       "    <tr>\n",
       "      <th>0</th>\n",
       "      <td>19995</td>\n",
       "      <td>[Action, Adventure, Fantasy, ScienceFiction]</td>\n",
       "      <td>Avatar</td>\n",
       "      <td>[cultureclash, future, spacewar, spacecolony, ...</td>\n",
       "      <td>[In, the, 22nd, century,, a, paraplegic, Marin...</td>\n",
       "      <td>[SamWorthington, ZoeSaldana, SigourneyWeaver]</td>\n",
       "      <td>[JamesCameron]</td>\n",
       "    </tr>\n",
       "  </tbody>\n",
       "</table>\n",
       "</div>"
      ],
      "text/plain": [
       "   movie_id                                        genres   title  \\\n",
       "0     19995  [Action, Adventure, Fantasy, ScienceFiction]  Avatar   \n",
       "\n",
       "                                            keywords  \\\n",
       "0  [cultureclash, future, spacewar, spacecolony, ...   \n",
       "\n",
       "                                            overview  \\\n",
       "0  [In, the, 22nd, century,, a, paraplegic, Marin...   \n",
       "\n",
       "                                            cast            crew  \n",
       "0  [SamWorthington, ZoeSaldana, SigourneyWeaver]  [JamesCameron]  "
      ]
     },
     "execution_count": 28,
     "metadata": {},
     "output_type": "execute_result"
    }
   ],
   "source": [
    "movies.head(1)"
   ]
  },
  {
   "cell_type": "code",
   "execution_count": 29,
   "id": "7668b19d-6da2-411b-a04a-a6a34113e44d",
   "metadata": {},
   "outputs": [],
   "source": [
    "movies['tags'] = movies['genres'] + movies['keywords'] + movies['overview'] + movies['cast'] + movies['crew']"
   ]
  },
  {
   "cell_type": "code",
   "execution_count": 30,
   "id": "4c15e8d6-79c8-4b94-9cd4-e511218c7494",
   "metadata": {},
   "outputs": [
    {
     "data": {
      "text/plain": [
       "['Action',\n",
       " 'Adventure',\n",
       " 'Fantasy',\n",
       " 'ScienceFiction',\n",
       " 'cultureclash',\n",
       " 'future',\n",
       " 'spacewar',\n",
       " 'spacecolony',\n",
       " 'society',\n",
       " 'spacetravel',\n",
       " 'futuristic',\n",
       " 'romance',\n",
       " 'space',\n",
       " 'alien',\n",
       " 'tribe',\n",
       " 'alienplanet',\n",
       " 'cgi',\n",
       " 'marine',\n",
       " 'soldier',\n",
       " 'battle',\n",
       " 'loveaffair',\n",
       " 'antiwar',\n",
       " 'powerrelations',\n",
       " 'mindandsoul',\n",
       " '3d',\n",
       " 'In',\n",
       " 'the',\n",
       " '22nd',\n",
       " 'century,',\n",
       " 'a',\n",
       " 'paraplegic',\n",
       " 'Marine',\n",
       " 'is',\n",
       " 'dispatched',\n",
       " 'to',\n",
       " 'the',\n",
       " 'moon',\n",
       " 'Pandora',\n",
       " 'on',\n",
       " 'a',\n",
       " 'unique',\n",
       " 'mission,',\n",
       " 'but',\n",
       " 'becomes',\n",
       " 'torn',\n",
       " 'between',\n",
       " 'following',\n",
       " 'orders',\n",
       " 'and',\n",
       " 'protecting',\n",
       " 'an',\n",
       " 'alien',\n",
       " 'civilization.',\n",
       " 'SamWorthington',\n",
       " 'ZoeSaldana',\n",
       " 'SigourneyWeaver',\n",
       " 'JamesCameron']"
      ]
     },
     "execution_count": 30,
     "metadata": {},
     "output_type": "execute_result"
    }
   ],
   "source": [
    "movies.loc[0,'tags']"
   ]
  },
  {
   "cell_type": "code",
   "execution_count": 31,
   "id": "934c0ec4-b72d-4b9f-82bc-3b851e7f0223",
   "metadata": {},
   "outputs": [
    {
     "data": {
      "text/html": [
       "<div>\n",
       "<style scoped>\n",
       "    .dataframe tbody tr th:only-of-type {\n",
       "        vertical-align: middle;\n",
       "    }\n",
       "\n",
       "    .dataframe tbody tr th {\n",
       "        vertical-align: top;\n",
       "    }\n",
       "\n",
       "    .dataframe thead th {\n",
       "        text-align: right;\n",
       "    }\n",
       "</style>\n",
       "<table border=\"1\" class=\"dataframe\">\n",
       "  <thead>\n",
       "    <tr style=\"text-align: right;\">\n",
       "      <th></th>\n",
       "      <th>movie_id</th>\n",
       "      <th>title</th>\n",
       "      <th>tags</th>\n",
       "    </tr>\n",
       "  </thead>\n",
       "  <tbody>\n",
       "    <tr>\n",
       "      <th>0</th>\n",
       "      <td>19995</td>\n",
       "      <td>Avatar</td>\n",
       "      <td>[Action, Adventure, Fantasy, ScienceFiction, c...</td>\n",
       "    </tr>\n",
       "    <tr>\n",
       "      <th>1</th>\n",
       "      <td>285</td>\n",
       "      <td>Pirates of the Caribbean: At World's End</td>\n",
       "      <td>[Adventure, Fantasy, Action, ocean, drugabuse,...</td>\n",
       "    </tr>\n",
       "    <tr>\n",
       "      <th>2</th>\n",
       "      <td>206647</td>\n",
       "      <td>Spectre</td>\n",
       "      <td>[Action, Adventure, Crime, spy, basedonnovel, ...</td>\n",
       "    </tr>\n",
       "    <tr>\n",
       "      <th>3</th>\n",
       "      <td>49026</td>\n",
       "      <td>The Dark Knight Rises</td>\n",
       "      <td>[Action, Crime, Drama, Thriller, dccomics, cri...</td>\n",
       "    </tr>\n",
       "    <tr>\n",
       "      <th>4</th>\n",
       "      <td>49529</td>\n",
       "      <td>John Carter</td>\n",
       "      <td>[Action, Adventure, ScienceFiction, basedonnov...</td>\n",
       "    </tr>\n",
       "  </tbody>\n",
       "</table>\n",
       "</div>"
      ],
      "text/plain": [
       "   movie_id                                     title  \\\n",
       "0     19995                                    Avatar   \n",
       "1       285  Pirates of the Caribbean: At World's End   \n",
       "2    206647                                   Spectre   \n",
       "3     49026                     The Dark Knight Rises   \n",
       "4     49529                               John Carter   \n",
       "\n",
       "                                                tags  \n",
       "0  [Action, Adventure, Fantasy, ScienceFiction, c...  \n",
       "1  [Adventure, Fantasy, Action, ocean, drugabuse,...  \n",
       "2  [Action, Adventure, Crime, spy, basedonnovel, ...  \n",
       "3  [Action, Crime, Drama, Thriller, dccomics, cri...  \n",
       "4  [Action, Adventure, ScienceFiction, basedonnov...  "
      ]
     },
     "execution_count": 31,
     "metadata": {},
     "output_type": "execute_result"
    }
   ],
   "source": [
    "new_df = movies[['movie_id','title','tags']]\n",
    "new_df.head(5)"
   ]
  },
  {
   "cell_type": "code",
   "execution_count": 32,
   "id": "2bcb1f91-0d19-4306-987b-6c311aa360c3",
   "metadata": {},
   "outputs": [
    {
     "name": "stderr",
     "output_type": "stream",
     "text": [
      "C:\\Users\\lydra\\AppData\\Local\\Temp\\ipykernel_8504\\1824047427.py:1: SettingWithCopyWarning: \n",
      "A value is trying to be set on a copy of a slice from a DataFrame.\n",
      "Try using .loc[row_indexer,col_indexer] = value instead\n",
      "\n",
      "See the caveats in the documentation: https://pandas.pydata.org/pandas-docs/stable/user_guide/indexing.html#returning-a-view-versus-a-copy\n",
      "  new_df['tags'] = new_df['tags'].apply(lambda x: \" \".join(x))\n"
     ]
    }
   ],
   "source": [
    "new_df['tags'] = new_df['tags'].apply(lambda x: \" \".join(x))"
   ]
  },
  {
   "cell_type": "code",
   "execution_count": 33,
   "id": "3feca46b-d5c1-4954-ac4d-14b76ee2b17f",
   "metadata": {},
   "outputs": [
    {
     "data": {
      "text/plain": [
       "'Action Adventure Fantasy ScienceFiction cultureclash future spacewar spacecolony society spacetravel futuristic romance space alien tribe alienplanet cgi marine soldier battle loveaffair antiwar powerrelations mindandsoul 3d In the 22nd century, a paraplegic Marine is dispatched to the moon Pandora on a unique mission, but becomes torn between following orders and protecting an alien civilization. SamWorthington ZoeSaldana SigourneyWeaver JamesCameron'"
      ]
     },
     "execution_count": 33,
     "metadata": {},
     "output_type": "execute_result"
    }
   ],
   "source": [
    "new_df['tags'][0]"
   ]
  },
  {
   "cell_type": "code",
   "execution_count": 34,
   "id": "165395f1-08db-42ab-bfda-4847c4a97b43",
   "metadata": {},
   "outputs": [
    {
     "name": "stderr",
     "output_type": "stream",
     "text": [
      "C:\\Users\\lydra\\AppData\\Local\\Temp\\ipykernel_8504\\3679624391.py:1: SettingWithCopyWarning: \n",
      "A value is trying to be set on a copy of a slice from a DataFrame.\n",
      "Try using .loc[row_indexer,col_indexer] = value instead\n",
      "\n",
      "See the caveats in the documentation: https://pandas.pydata.org/pandas-docs/stable/user_guide/indexing.html#returning-a-view-versus-a-copy\n",
      "  new_df['tags'] = new_df['tags'].apply(lambda x : x.lower())\n"
     ]
    }
   ],
   "source": [
    "new_df['tags'] = new_df['tags'].apply(lambda x : x.lower())"
   ]
  },
  {
   "cell_type": "code",
   "execution_count": 35,
   "id": "920f74ce-d6b1-4a78-848c-9c599b179b03",
   "metadata": {},
   "outputs": [
    {
     "data": {
      "text/html": [
       "<div>\n",
       "<style scoped>\n",
       "    .dataframe tbody tr th:only-of-type {\n",
       "        vertical-align: middle;\n",
       "    }\n",
       "\n",
       "    .dataframe tbody tr th {\n",
       "        vertical-align: top;\n",
       "    }\n",
       "\n",
       "    .dataframe thead th {\n",
       "        text-align: right;\n",
       "    }\n",
       "</style>\n",
       "<table border=\"1\" class=\"dataframe\">\n",
       "  <thead>\n",
       "    <tr style=\"text-align: right;\">\n",
       "      <th></th>\n",
       "      <th>movie_id</th>\n",
       "      <th>title</th>\n",
       "      <th>tags</th>\n",
       "    </tr>\n",
       "  </thead>\n",
       "  <tbody>\n",
       "    <tr>\n",
       "      <th>4491</th>\n",
       "      <td>7859</td>\n",
       "      <td>Half Nelson</td>\n",
       "      <td>drama date ex-girlfriend bicycle crack indepen...</td>\n",
       "    </tr>\n",
       "    <tr>\n",
       "      <th>196</th>\n",
       "      <td>38055</td>\n",
       "      <td>Megamind</td>\n",
       "      <td>animation action comedy family sciencefiction ...</td>\n",
       "    </tr>\n",
       "    <tr>\n",
       "      <th>3519</th>\n",
       "      <td>16564</td>\n",
       "      <td>Winter in Wartime</td>\n",
       "      <td>drama history war netherlands worldwarii durin...</td>\n",
       "    </tr>\n",
       "    <tr>\n",
       "      <th>4564</th>\n",
       "      <td>285743</td>\n",
       "      <td>Alleluia! The Devil's Carnival</td>\n",
       "      <td>music horror carnival musical sequel devil dar...</td>\n",
       "    </tr>\n",
       "    <tr>\n",
       "      <th>3348</th>\n",
       "      <td>253</td>\n",
       "      <td>Live and Let Die</td>\n",
       "      <td>adventure action thriller londonengland newyor...</td>\n",
       "    </tr>\n",
       "  </tbody>\n",
       "</table>\n",
       "</div>"
      ],
      "text/plain": [
       "      movie_id                           title  \\\n",
       "4491      7859                     Half Nelson   \n",
       "196      38055                        Megamind   \n",
       "3519     16564               Winter in Wartime   \n",
       "4564    285743  Alleluia! The Devil's Carnival   \n",
       "3348       253                Live and Let Die   \n",
       "\n",
       "                                                   tags  \n",
       "4491  drama date ex-girlfriend bicycle crack indepen...  \n",
       "196   animation action comedy family sciencefiction ...  \n",
       "3519  drama history war netherlands worldwarii durin...  \n",
       "4564  music horror carnival musical sequel devil dar...  \n",
       "3348  adventure action thriller londonengland newyor...  "
      ]
     },
     "execution_count": 35,
     "metadata": {},
     "output_type": "execute_result"
    }
   ],
   "source": [
    "new_df.sample(5)"
   ]
  },
  {
   "cell_type": "code",
   "execution_count": 36,
   "id": "9f90f969-7a5e-45dd-b450-b1144bfa7c75",
   "metadata": {},
   "outputs": [],
   "source": [
    "import nltk"
   ]
  },
  {
   "cell_type": "code",
   "execution_count": 37,
   "id": "16e4d17c-b86f-40ed-81c1-79f2e2c7d373",
   "metadata": {},
   "outputs": [],
   "source": [
    "from nltk.stem.porter import PorterStemmer\n",
    "ps = PorterStemmer()"
   ]
  },
  {
   "cell_type": "code",
   "execution_count": 38,
   "id": "f1bc158e-1713-42dd-b3f2-f4c22140bfe2",
   "metadata": {},
   "outputs": [],
   "source": [
    "def stem(text):\n",
    "    x = []\n",
    "    for i in text.split():\n",
    "        x.append(ps.stem(i))\n",
    "\n",
    "    return \" \".join(x)"
   ]
  },
  {
   "cell_type": "code",
   "execution_count": 39,
   "id": "0cb11f05-5fb4-4fa7-b4a0-25205b80d422",
   "metadata": {},
   "outputs": [
    {
     "name": "stderr",
     "output_type": "stream",
     "text": [
      "C:\\Users\\lydra\\AppData\\Local\\Temp\\ipykernel_8504\\3213734980.py:1: SettingWithCopyWarning: \n",
      "A value is trying to be set on a copy of a slice from a DataFrame.\n",
      "Try using .loc[row_indexer,col_indexer] = value instead\n",
      "\n",
      "See the caveats in the documentation: https://pandas.pydata.org/pandas-docs/stable/user_guide/indexing.html#returning-a-view-versus-a-copy\n",
      "  new_df['tags'] = new_df['tags'].apply(stem)\n"
     ]
    }
   ],
   "source": [
    "new_df['tags'] = new_df['tags'].apply(stem)"
   ]
  },
  {
   "cell_type": "code",
   "execution_count": 40,
   "id": "c9d8392e-3fa0-41e9-8640-ac1af9f08c0b",
   "metadata": {},
   "outputs": [],
   "source": [
    "from sklearn.feature_extraction.text import CountVectorizer"
   ]
  },
  {
   "cell_type": "code",
   "execution_count": 41,
   "id": "242a53d0-b860-4e70-99bc-58da725cadb7",
   "metadata": {},
   "outputs": [],
   "source": [
    "cv = CountVectorizer(max_features=5000,stop_words='english')"
   ]
  },
  {
   "cell_type": "code",
   "execution_count": 42,
   "id": "40824dd9-fd6f-4dec-b21b-de05f5933da8",
   "metadata": {},
   "outputs": [],
   "source": [
    "vectors = cv.fit_transform(new_df['tags']).toarray()"
   ]
  },
  {
   "cell_type": "code",
   "execution_count": 43,
   "id": "4a2e52f1-5c22-4895-bbcc-231f51658ea0",
   "metadata": {},
   "outputs": [
    {
     "data": {
      "text/plain": [
       "array([0, 0, 0, ..., 0, 0, 0], dtype=int64)"
      ]
     },
     "execution_count": 43,
     "metadata": {},
     "output_type": "execute_result"
    }
   ],
   "source": [
    "vectors[0]"
   ]
  },
  {
   "cell_type": "code",
   "execution_count": 44,
   "id": "ae651e89-ba9e-4335-88db-09dff3865d8e",
   "metadata": {},
   "outputs": [],
   "source": [
    "feature_names = cv.get_feature_names_out()"
   ]
  },
  {
   "cell_type": "code",
   "execution_count": 45,
   "id": "11c52d9e-f1ea-46b7-bb9e-3c466ed38c4f",
   "metadata": {},
   "outputs": [
    {
     "name": "stdout",
     "output_type": "stream",
     "text": [
      "['000' '007' '10' '100' '11' '12' '13' '14' '15' '16' '17' '17th' '18'\n",
      " '18th' '18thcenturi' '19' '1910' '1920' '1930' '1940' '1944' '1950'\n",
      " '1950s' '1960' '1960s' '1970' '1970s' '1971' '1974' '1976' '1980' '1985'\n",
      " '1990' '1999' '19th' '19thcenturi' '20' '200' '2003' '2009' '20th' '21st'\n",
      " '23' '24' '25' '30' '300' '3d' '40' '50' '500' '60' '70' '80' 'aaron'\n",
      " 'aaroneckhart' 'abandon' 'abduct' 'abigailbreslin' 'abil' 'abl' 'aboard'\n",
      " 'abov' 'abus' 'academ' 'academi' 'accept' 'access' 'accid' 'accident'\n",
      " 'acclaim' 'accompani' 'accomplish' 'account' 'accus' 'ace' 'achiev'\n",
      " 'acquaint' 'act' 'action' 'actionhero' 'activ' 'activist' 'activities'\n",
      " 'actor' 'actress' 'actual' 'ad' 'adam' 'adamsandl' 'adamshankman' 'adapt'\n",
      " 'add' 'addict' 'adjust' 'admir' 'admit' 'adolesc' 'adopt' 'ador'\n",
      " 'adrienbrodi' 'adult' 'adultanim' 'adulteri' 'adulthood' 'advanc'\n",
      " 'adventur' 'adventure' 'adventures' 'advertis' 'advic' 'advis' 'affair'\n",
      " 'affect' 'afghanistan' 'africa' 'african' 'africanamerican'\n",
      " 'aftercreditssting' 'afterlif' 'aftermath' 'ag' 'age' 'agediffer' 'agenc'\n",
      " 'agency' 'agenda' 'agent' 'agents' 'aggress' 'ago' 'agre' 'ahead' 'aid'\n",
      " 'aidanquinn' 'ail' 'aim' 'air' 'airplan' 'airplanecrash' 'airport' 'aka'\n",
      " 'al' 'alabama' 'alan' 'alaska' 'albert' 'alcatraz' 'alcohol'\n",
      " 'alecbaldwin' 'alex' 'alexkendrick' 'alfredhitchcock' 'alfredmolina'\n",
      " 'ali' 'alic' 'alice' 'alien' 'alieninvas' 'alienlife' 'alienplanet'\n",
      " 'aliens' 'alik' 'aliv' 'alive' 'allen' 'alli' 'allianc' 'allow' 'alon'\n",
      " 'alongsid' 'alpacino' 'alpha' 'alreadi' 'alter' 'altern' 'alway' 'alyssa'\n",
      " 'alzheimer' 'amanda' 'amandapeet' 'amandaseyfri' 'amateur' 'amaz'\n",
      " 'amazon' 'ambassador' 'ambit' 'ambiti' 'ambul' 'ambush' 'america'\n",
      " 'american' 'americanabroad' 'americancivilwar' 'americanfootbal'\n",
      " 'americanfootballplay' 'amid' 'amidst' 'amnesia' 'amp' 'amsterdam' 'amus'\n",
      " 'amusementpark' 'amy' 'amyadam' 'amysmart' 'ana' 'anakin' 'analyst'\n",
      " 'anarchiccomedi' 'ancient' 'ancientrom' 'ancientworld' 'anderson' 'andi'\n",
      " 'andiemacdowel' 'andrew' 'android' 'andy' 'andygarcía' 'angel' 'angela'\n",
      " 'angelabassett' 'angeles' 'angelinajoli' 'anger' 'angle' 'angri' 'ani'\n",
      " 'anim' 'animalattack' 'animalhorror' 'animals' 'anjelicahuston' 'ann'\n",
      " 'anna' 'annafari' 'annakendrick' 'anne' 'annehathaway' 'annemoss'\n",
      " 'annetteben' 'anni' 'annie' 'anniversari' 'announc' 'annual' 'anonym'\n",
      " 'anoth' 'answer' 'ant' 'antholog' 'anthoni' 'anthonyanderson'\n",
      " 'anthonyhopkin' 'anthropomorph' 'anti' 'antic' 'antihero' 'antiqu'\n",
      " 'antoinefuqua' 'antoniobandera' 'antonyelchin' 'anyon' 'anyth' 'apart'\n",
      " 'apartheid' 'apartment' 'ape' 'apocalyps' 'apocalypse' 'apocalypt'\n",
      " 'appar' 'appear' 'appl' 'apple' 'appoint' 'appreci' 'apprentic'\n",
      " 'approach' 'april' 'aquarium' 'arab' 'arch' 'archaeologist' 'archeolog'\n",
      " 'archer' 'architect' 'arctic' 'area' 'aren' 'arena' 'argument' 'aris'\n",
      " 'aristocrat' 'arm' 'armi' 'armor' 'armsdeal' 'army' 'arnold'\n",
      " 'arnoldschwarzenegg' 'arrang' 'arrangedmarriag' 'arrest' 'arriv' 'arrog'\n",
      " 'art' 'arthur' 'artifact' 'artifici' 'artificialintellig' 'artist' 'ash'\n",
      " 'ashley' 'ashleyjudd' 'ashtonkutch' 'asia' 'asian' 'asid' 'ask' 'aspect'\n",
      " 'aspir' 'assassin' 'assault' 'assembl' 'assign' 'assist' 'assistant'\n",
      " 'associ' 'assum' 'asteroid' 'astronaut' 'asylum' 'atheist' 'athlet'\n",
      " 'atom' 'atomicbomb' 'attack' 'attacks' 'attempt' 'attend' 'attent'\n",
      " 'attic' 'attitud' 'attorney' 'attract' 'auction' 'audienc' 'audit'\n",
      " 'august' 'aunt' 'austin' 'australia' 'australian' 'author' 'autism'\n",
      " 'auto' 'automobilerac' 'aveng' 'averag' 'avoid' 'await' 'awak' 'awaken'\n",
      " 'awar' 'award' 'away' 'awkward' 'awri' 'awry' 'ax' 'babe' 'babi' 'baby'\n",
      " 'bachelor' 'backdrop' 'background' 'backpack' 'bad' 'bag' 'bahama' 'bail'\n",
      " 'balanc' 'ball' 'ballet' 'balloon' 'baltimor' 'ban' 'band' 'bandit'\n",
      " 'bangkok' 'banish' 'bank' 'banker' 'bankrobb' 'bankrobberi' 'bar'\n",
      " 'barbrastreisand' 'bare' 'bargain' 'barn' 'barney' 'baron' 'barri'\n",
      " 'barrylevinson' 'barrysonnenfeld' 'bas' 'base' 'basebal'\n",
      " 'basedoncomicbook' 'basedongraphicnovel' 'basedonnovel' 'basedonplay'\n",
      " 'basedonstagemus' 'basedontrueev' 'basedontruestori' 'basedontvseri'\n",
      " 'basedonvideogam' 'basedonyoungadultnovel' 'basement' 'basketbal'\n",
      " 'basketball' 'bat' 'batman' 'battl' 'battle' 'battlefield' 'bay' 'beach'\n",
      " 'beam' 'bear' 'beard' 'beast' 'beat' 'beauti' 'beautiful'\n",
      " 'beautifulwoman' 'beauty' 'becam' 'becaus' 'becki' 'becom'\n",
      " 'becominganadult' 'bed' 'bedroom' 'bee' 'beer' 'befor' 'befriend' 'began'\n",
      " 'begin' 'begins' 'behavior' 'belief' 'believ' 'bell' 'bella' 'belong'\n",
      " 'belov' 'ben' 'benaffleck' 'bend' 'beneath' 'benefit' 'benfost'\n",
      " 'beniciodeltoro' 'benjamin' 'benjaminbratt' 'benkingsley' 'bennett'\n",
      " 'benstil' 'bent' 'berlin' 'best' 'bestfriend' 'bestfriendsinlov' 'bet'\n",
      " 'beth' 'betray' 'bettemidl' 'better' 'betti' 'beverli' 'bibl' 'bid' 'big'\n",
      " 'bigger' 'biggest' 'bike' 'biker' 'bikini' 'billhad' 'billi' 'billionair'\n",
      " 'billmurray' 'billnighi' 'billpaxton' 'billpullman' 'billybobthornton'\n",
      " 'billycrudup' 'billycryst' 'biographi' 'biolog' 'bird' 'birth' 'birthday'\n",
      " 'bisexu' 'bishop' 'bit' 'bite' 'bitter' 'bizarr' 'black' 'blackmag'\n",
      " 'blackmail' 'blackpeopl' 'blacksmith' 'blade' 'blame' 'blend' 'blind'\n",
      " 'bliss' 'blizzard' 'block' 'blond' 'blood' 'bloodi' 'bloodsplatt'\n",
      " 'bloodthirsti' 'blow' 'blue' 'board' 'boardingschool' 'boat' 'bob'\n",
      " 'bobbi' 'bobbyfarrelli' 'bobhoskin' 'bodi' 'body' 'bodyguard' 'bold'\n",
      " 'bollywood' 'bomb' 'bond' 'bone' 'book' 'border' 'bore' 'boredom' 'born'\n",
      " 'boss' 'boston' 'botch' 'bound' 'boundari' 'bounti' 'bountyhunt' 'bout'\n",
      " 'box' 'boxer' 'boy' 'boyfriend' 'boys' 'bradleycoop' 'bradpitt' 'brain'\n",
      " 'brainwash' 'brand' 'brandon' 'brave' 'braveri' 'brazil' 'brazilian'\n",
      " 'break' 'breakdown' 'breast' 'breath' 'breed' 'brendanfras'\n",
      " 'brendangleeson' 'brent' 'brettratn' 'brian' 'briandepalma' 'bride'\n",
      " 'bridesmaid' 'bridg' 'brief' 'brielarson' 'brien' 'bright' 'brilliant'\n",
      " 'bring' 'brink' 'britain' 'british' 'britishsecretservic'\n",
      " 'brittanymurphi' 'broadcast' 'broadway' 'broke' 'broken' 'broker' 'bronx'\n",
      " 'brook' 'brooklyn' 'broom' 'brothel' 'brother'\n",
      " 'brotherbrotherrelationship' 'brothers' 'brothersisterrelationship'\n",
      " 'brought' 'brown' 'bruce' 'brucegreenwood' 'brucewilli' 'brutal'\n",
      " 'bryansing' 'bu' 'buck' 'bud' 'buddi' 'buddy' 'buddycomedi' 'buddycop'\n",
      " 'budget' 'build' 'building' 'built' 'bullet' 'bulli' 'bumbl' 'bunch'\n",
      " 'bunker' 'bunni' 'burglar' 'buri' 'burn' 'bush' 'busi' 'business'\n",
      " 'businessman' 'bust' 'butcher' 'butler' 'butt' 'button' 'buy' 'buzz'\n",
      " 'cabin' 'caesar' 'cage' 'cairo' 'cal' 'california' 'calvin' 'camcord'\n",
      " 'came' 'camera' 'cameraman' 'camerondiaz' 'camp' 'campaign' 'campbell'\n",
      " 'campu' 'canada' 'canadian' 'cancer' 'candi' 'candid' 'canin' 'cannib'\n",
      " 'canuxploit' 'capabl' 'caper' 'capit' 'capt' 'captain' 'captiv' 'captur'\n",
      " 'capture' 'car' 'caraccid' 'carchas' 'carcrash' 'card' 'care' 'career'\n",
      " 'carefre' 'caretak' 'careymulligan' 'caribbean' 'carjourney' 'carl'\n",
      " 'carlagugino' 'carmen' 'carol' 'carolina' 'carrac' 'carri' 'carrie'\n",
      " 'cartel' 'carter' 'cartoon' 'caryelw' 'case' 'caseyaffleck' 'cash'\n",
      " 'casino' 'cast' 'castl' 'cat' 'cataclysm' 'catastroph' 'catch'\n",
      " 'cateblanchett' 'catherinedeneuv' 'catherinekeen' 'catherinezeta'\n",
      " 'cathol' 'catholic' 'cattl' 'caught' 'caus' 'cavalri' 'cave' 'cavemen'\n",
      " 'celebr' 'celebration' 'cell' 'cellphon' 'cemeteri' 'center' 'centr'\n",
      " 'central' 'centuri' 'centuries' 'century' 'ceo' 'certain' 'chad' 'chain'\n",
      " 'chainsaw' 'challeng' 'chamber' 'champion' 'championship' 'chanc'\n",
      " 'chance' 'chang' 'change' 'changed' 'changes' 'channingtatum' 'chao'\n",
      " 'chaos' 'chaotic' 'chapter' 'charact' 'character' 'characters' 'charg'\n",
      " 'charismat' 'charl' 'charli' 'charlie' 'charliesheen' 'charlizetheron'\n",
      " 'charm' 'chart' 'chase' 'chauffeur' 'chazzpalminteri' 'cheat' 'check'\n",
      " 'cheerlead' 'chef' 'chemic' 'cher' 'chevychas' 'chicago' 'chicken'\n",
      " 'chief' 'child' 'childabus' 'childhero' 'childhood' 'childprodigi'\n",
      " 'children' 'chill' 'chimp' 'china' 'chines' 'chip' 'chipmunk'\n",
      " 'chiwetelejiofor' 'chloe' 'chloëgracemoretz' 'chloësevigni' 'chocol'\n",
      " 'choic' 'choice' 'choos' 'chosen' 'chowyun' 'chri' 'chriscolumbu'\n",
      " 'chriscoop' 'chrisevan' 'chrishemsworth' 'chrisklein' 'chrispin'\n",
      " 'chrisrock' 'christ' 'christian' 'christianbal' 'christianslat'\n",
      " 'christin' 'christinaappleg' 'christinaricci' 'christma' 'christmas'\n",
      " 'christmasparti' 'christmastre' 'christoph' 'christopherlambert'\n",
      " 'christopherlloyd' 'christophernolan' 'christopherplumm'\n",
      " 'christopherwalken' 'christophwaltz' 'chrisweitz' 'chronicl' 'chuck'\n",
      " 'church' 'cia' 'ciaránhind' 'cigarettesmok' 'cillianmurphi' 'cinema'\n",
      " 'circl' 'circu' 'circuit' 'circumst' 'citi' 'citizen' 'city' 'civil'\n",
      " 'civilian' 'civilwar' 'claim' 'clair' 'clairedan' 'claireforlani' 'clan'\n",
      " 'clark' 'clash' 'class' 'classdiffer' 'classic' 'classmat' 'classroom'\n",
      " 'claudevandamm' 'clay' 'clean' 'clear' 'clerk' 'clever' 'client'\n",
      " 'clients' 'cliff' 'climat' 'climb' 'clinteastwood' 'cliveowen' 'clock'\n",
      " 'clone' 'close' 'closer' 'cloud' 'clown' 'club' 'clue' 'clueless'\n",
      " 'clutch' 'coach' 'coast' 'cocain' 'code' 'coffin' 'cohen' 'col' 'cold'\n",
      " 'coldwar' 'cole' 'colin' 'colinfarrel' 'colinfirth' 'collaps' 'colleagu'\n",
      " 'collect' 'collector' 'colleg' 'college' 'collid' 'collis' 'colombia'\n",
      " 'colonel' 'coloni' 'color' 'colorado' 'coma' 'combat' 'combin' 'come'\n",
      " 'comeback' 'comed' 'comedi' 'comedian' 'comedy' 'comet' 'comfort' 'comic'\n",
      " 'coming' 'comingofag' 'comingout' 'command' 'commando' 'commerci'\n",
      " 'commiss' 'commit' 'common' 'commun' 'communist' 'community' 'compani'\n",
      " 'companion' 'company' 'compet' 'competit' 'competition' 'complet'\n",
      " 'complex' 'complic' 'compos' 'compuls' 'comput' 'computerviru' 'conan'\n",
      " 'concern' 'concert' 'concoct' 'condit' 'condition' 'conduct' 'confeder'\n",
      " 'confess' 'confid' 'confin' 'conflict' 'confront' 'confus' 'congress'\n",
      " 'conman' 'connect' 'connecticut' 'connel' 'connor' 'conquer' 'consequ'\n",
      " 'consequences' 'conserv' 'consid' 'conspir' 'conspiraci' 'conspiracy'\n",
      " 'constant' 'constantli' 'construct' 'consum' 'contact' 'contain'\n",
      " 'contemporari' 'contend' 'content' 'contest' 'continu' 'contract'\n",
      " 'contractor' 'control' 'controversi' 'convent' 'converg' 'convers'\n",
      " 'convict' 'convinc' 'cook']\n"
     ]
    }
   ],
   "source": [
    "print(feature_names[0 :1000])"
   ]
  },
  {
   "cell_type": "code",
   "execution_count": 46,
   "id": "50fc2aef-03ce-4311-b8eb-67dd1691ce8f",
   "metadata": {},
   "outputs": [],
   "source": [
    "from sklearn.metrics.pairwise import cosine_similarity\n",
    "similarity = cosine_similarity(vectors)"
   ]
  },
  {
   "cell_type": "code",
   "execution_count": 47,
   "id": "5999e1eb-789f-4cd3-97f3-576ed5dc02de",
   "metadata": {},
   "outputs": [],
   "source": [
    "def recommend(movie):\n",
    "    movie_index = new_df[new_df['title']==movie].index[0]\n",
    "    distance = similarity[movie_index]\n",
    "    movie_list = sorted(list(enumerate(distance)),reverse = True,key = lambda x : x[1])[1:6]\n",
    "\n",
    "    for i in movie_list:\n",
    "        print(new_df.iloc[i[0]]['title'])\n"
   ]
  },
  {
   "cell_type": "code",
   "execution_count": 48,
   "id": "40fdbace-ebea-4304-b79c-4d01ca200700",
   "metadata": {},
   "outputs": [
    {
     "name": "stdout",
     "output_type": "stream",
     "text": [
      "Cars 2\n",
      "The Croods\n",
      "Curious George\n",
      "The Simpsons Movie\n",
      "Marmaduke\n"
     ]
    }
   ],
   "source": [
    "recommend('Cars')"
   ]
  },
  {
   "cell_type": "code",
   "execution_count": 50,
   "id": "81cce66a-a3b9-421f-9aa8-b0e66c21c5b6",
   "metadata": {},
   "outputs": [],
   "source": [
    "import pickle\n",
    "pickle.dump(new_df.to_dict(),open('movie_dict.pkl','wb'))\n",
    "pickle.dump(similarity,open('similarity.pkl','wb'))"
   ]
  },
  {
   "cell_type": "code",
   "execution_count": null,
   "id": "c3f4f134-6ebf-461a-9b21-8a85bd0d3fd0",
   "metadata": {},
   "outputs": [],
   "source": []
  }
 ],
 "metadata": {
  "kernelspec": {
   "display_name": "Python 3 (ipykernel)",
   "language": "python",
   "name": "python3"
  },
  "language_info": {
   "codemirror_mode": {
    "name": "ipython",
    "version": 3
   },
   "file_extension": ".py",
   "mimetype": "text/x-python",
   "name": "python",
   "nbconvert_exporter": "python",
   "pygments_lexer": "ipython3",
   "version": "3.12.0"
  }
 },
 "nbformat": 4,
 "nbformat_minor": 5
}
